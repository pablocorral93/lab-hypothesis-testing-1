{
  "cells": [
    {
      "cell_type": "markdown",
      "metadata": {
        "id": "ahXDKtI-LG_B"
      },
      "source": [
        "# Before your start:\n",
        "- Read the README.md file\n",
        "- Comment as much as you can and use the resources (README.md file)\n",
        "- Happy learning!"
      ]
    },
    {
      "cell_type": "code",
      "execution_count": 2,
      "metadata": {
        "id": "tOlhpZXKLG_F"
      },
      "outputs": [],
      "source": [
        "# import numpy and pandas\n",
        "\n",
        "import pandas as pd\n",
        "import numpy as np\n",
        "import scipy.stats as st\n",
        "import matplotlib.pyplot as plt\n",
        "import seaborn as sns"
      ]
    },
    {
      "cell_type": "markdown",
      "metadata": {
        "id": "v3Kd0LJdLG_H"
      },
      "source": [
        "# Challenge 1 - Exploring the Data\n",
        "\n",
        "In this challenge, we will examine all salaries of employees of the City of Chicago. We will start by loading the dataset and examining its contents."
      ]
    },
    {
      "cell_type": "code",
      "execution_count": 4,
      "metadata": {
        "id": "fttShtZQLG_I"
      },
      "outputs": [],
      "source": [
        "# Your code here:\n",
        "\n",
        "salaries = pd.read_csv('Current_Employee_Names__Salaries__and_Position_Titles.csv')\n"
      ]
    },
    {
      "cell_type": "markdown",
      "metadata": {
        "id": "nySgItSoLG_I"
      },
      "source": [
        "Examine the `salaries` dataset using the `head` function below."
      ]
    },
    {
      "cell_type": "code",
      "execution_count": 5,
      "metadata": {
        "colab": {
          "base_uri": "https://localhost:8080/",
          "height": 310
        },
        "id": "rcFF5BE3LG_J",
        "outputId": "9bdd7127-7593-4ae4-9884-4250aed10e8e"
      },
      "outputs": [
        {
          "output_type": "execute_result",
          "data": {
            "text/plain": [
              "                  Name                              Job Titles  \\\n",
              "0    AARON,  JEFFERY M                                SERGEANT   \n",
              "1      AARON,  KARINA   POLICE OFFICER (ASSIGNED AS DETECTIVE)   \n",
              "2  AARON,  KIMBERLEI R                CHIEF CONTRACT EXPEDITER   \n",
              "3  ABAD JR,  VICENTE M                       CIVIL ENGINEER IV   \n",
              "4    ABASCAL,  REECE E             TRAFFIC CONTROL AIDE-HOURLY   \n",
              "\n",
              "         Department Full or Part-Time Salary or Hourly  Typical Hours  \\\n",
              "0            POLICE                 F           Salary            NaN   \n",
              "1            POLICE                 F           Salary            NaN   \n",
              "2  GENERAL SERVICES                 F           Salary            NaN   \n",
              "3       WATER MGMNT                 F           Salary            NaN   \n",
              "4              OEMC                 P           Hourly           20.0   \n",
              "\n",
              "   Annual Salary  Hourly Rate  \n",
              "0       101442.0          NaN  \n",
              "1        94122.0          NaN  \n",
              "2       101592.0          NaN  \n",
              "3       110064.0          NaN  \n",
              "4            NaN        19.86  "
            ],
            "text/html": [
              "\n",
              "  <div id=\"df-26e91565-5108-4fc5-b5bd-b43db9c860bb\" class=\"colab-df-container\">\n",
              "    <div>\n",
              "<style scoped>\n",
              "    .dataframe tbody tr th:only-of-type {\n",
              "        vertical-align: middle;\n",
              "    }\n",
              "\n",
              "    .dataframe tbody tr th {\n",
              "        vertical-align: top;\n",
              "    }\n",
              "\n",
              "    .dataframe thead th {\n",
              "        text-align: right;\n",
              "    }\n",
              "</style>\n",
              "<table border=\"1\" class=\"dataframe\">\n",
              "  <thead>\n",
              "    <tr style=\"text-align: right;\">\n",
              "      <th></th>\n",
              "      <th>Name</th>\n",
              "      <th>Job Titles</th>\n",
              "      <th>Department</th>\n",
              "      <th>Full or Part-Time</th>\n",
              "      <th>Salary or Hourly</th>\n",
              "      <th>Typical Hours</th>\n",
              "      <th>Annual Salary</th>\n",
              "      <th>Hourly Rate</th>\n",
              "    </tr>\n",
              "  </thead>\n",
              "  <tbody>\n",
              "    <tr>\n",
              "      <th>0</th>\n",
              "      <td>AARON,  JEFFERY M</td>\n",
              "      <td>SERGEANT</td>\n",
              "      <td>POLICE</td>\n",
              "      <td>F</td>\n",
              "      <td>Salary</td>\n",
              "      <td>NaN</td>\n",
              "      <td>101442.0</td>\n",
              "      <td>NaN</td>\n",
              "    </tr>\n",
              "    <tr>\n",
              "      <th>1</th>\n",
              "      <td>AARON,  KARINA</td>\n",
              "      <td>POLICE OFFICER (ASSIGNED AS DETECTIVE)</td>\n",
              "      <td>POLICE</td>\n",
              "      <td>F</td>\n",
              "      <td>Salary</td>\n",
              "      <td>NaN</td>\n",
              "      <td>94122.0</td>\n",
              "      <td>NaN</td>\n",
              "    </tr>\n",
              "    <tr>\n",
              "      <th>2</th>\n",
              "      <td>AARON,  KIMBERLEI R</td>\n",
              "      <td>CHIEF CONTRACT EXPEDITER</td>\n",
              "      <td>GENERAL SERVICES</td>\n",
              "      <td>F</td>\n",
              "      <td>Salary</td>\n",
              "      <td>NaN</td>\n",
              "      <td>101592.0</td>\n",
              "      <td>NaN</td>\n",
              "    </tr>\n",
              "    <tr>\n",
              "      <th>3</th>\n",
              "      <td>ABAD JR,  VICENTE M</td>\n",
              "      <td>CIVIL ENGINEER IV</td>\n",
              "      <td>WATER MGMNT</td>\n",
              "      <td>F</td>\n",
              "      <td>Salary</td>\n",
              "      <td>NaN</td>\n",
              "      <td>110064.0</td>\n",
              "      <td>NaN</td>\n",
              "    </tr>\n",
              "    <tr>\n",
              "      <th>4</th>\n",
              "      <td>ABASCAL,  REECE E</td>\n",
              "      <td>TRAFFIC CONTROL AIDE-HOURLY</td>\n",
              "      <td>OEMC</td>\n",
              "      <td>P</td>\n",
              "      <td>Hourly</td>\n",
              "      <td>20.0</td>\n",
              "      <td>NaN</td>\n",
              "      <td>19.86</td>\n",
              "    </tr>\n",
              "  </tbody>\n",
              "</table>\n",
              "</div>\n",
              "    <div class=\"colab-df-buttons\">\n",
              "\n",
              "  <div class=\"colab-df-container\">\n",
              "    <button class=\"colab-df-convert\" onclick=\"convertToInteractive('df-26e91565-5108-4fc5-b5bd-b43db9c860bb')\"\n",
              "            title=\"Convert this dataframe to an interactive table.\"\n",
              "            style=\"display:none;\">\n",
              "\n",
              "  <svg xmlns=\"http://www.w3.org/2000/svg\" height=\"24px\" viewBox=\"0 -960 960 960\">\n",
              "    <path d=\"M120-120v-720h720v720H120Zm60-500h600v-160H180v160Zm220 220h160v-160H400v160Zm0 220h160v-160H400v160ZM180-400h160v-160H180v160Zm440 0h160v-160H620v160ZM180-180h160v-160H180v160Zm440 0h160v-160H620v160Z\"/>\n",
              "  </svg>\n",
              "    </button>\n",
              "\n",
              "  <style>\n",
              "    .colab-df-container {\n",
              "      display:flex;\n",
              "      gap: 12px;\n",
              "    }\n",
              "\n",
              "    .colab-df-convert {\n",
              "      background-color: #E8F0FE;\n",
              "      border: none;\n",
              "      border-radius: 50%;\n",
              "      cursor: pointer;\n",
              "      display: none;\n",
              "      fill: #1967D2;\n",
              "      height: 32px;\n",
              "      padding: 0 0 0 0;\n",
              "      width: 32px;\n",
              "    }\n",
              "\n",
              "    .colab-df-convert:hover {\n",
              "      background-color: #E2EBFA;\n",
              "      box-shadow: 0px 1px 2px rgba(60, 64, 67, 0.3), 0px 1px 3px 1px rgba(60, 64, 67, 0.15);\n",
              "      fill: #174EA6;\n",
              "    }\n",
              "\n",
              "    .colab-df-buttons div {\n",
              "      margin-bottom: 4px;\n",
              "    }\n",
              "\n",
              "    [theme=dark] .colab-df-convert {\n",
              "      background-color: #3B4455;\n",
              "      fill: #D2E3FC;\n",
              "    }\n",
              "\n",
              "    [theme=dark] .colab-df-convert:hover {\n",
              "      background-color: #434B5C;\n",
              "      box-shadow: 0px 1px 3px 1px rgba(0, 0, 0, 0.15);\n",
              "      filter: drop-shadow(0px 1px 2px rgba(0, 0, 0, 0.3));\n",
              "      fill: #FFFFFF;\n",
              "    }\n",
              "  </style>\n",
              "\n",
              "    <script>\n",
              "      const buttonEl =\n",
              "        document.querySelector('#df-26e91565-5108-4fc5-b5bd-b43db9c860bb button.colab-df-convert');\n",
              "      buttonEl.style.display =\n",
              "        google.colab.kernel.accessAllowed ? 'block' : 'none';\n",
              "\n",
              "      async function convertToInteractive(key) {\n",
              "        const element = document.querySelector('#df-26e91565-5108-4fc5-b5bd-b43db9c860bb');\n",
              "        const dataTable =\n",
              "          await google.colab.kernel.invokeFunction('convertToInteractive',\n",
              "                                                    [key], {});\n",
              "        if (!dataTable) return;\n",
              "\n",
              "        const docLinkHtml = 'Like what you see? Visit the ' +\n",
              "          '<a target=\"_blank\" href=https://colab.research.google.com/notebooks/data_table.ipynb>data table notebook</a>'\n",
              "          + ' to learn more about interactive tables.';\n",
              "        element.innerHTML = '';\n",
              "        dataTable['output_type'] = 'display_data';\n",
              "        await google.colab.output.renderOutput(dataTable, element);\n",
              "        const docLink = document.createElement('div');\n",
              "        docLink.innerHTML = docLinkHtml;\n",
              "        element.appendChild(docLink);\n",
              "      }\n",
              "    </script>\n",
              "  </div>\n",
              "\n",
              "\n",
              "<div id=\"df-5d9f0343-4feb-4422-8b56-764e1ad08ce9\">\n",
              "  <button class=\"colab-df-quickchart\" onclick=\"quickchart('df-5d9f0343-4feb-4422-8b56-764e1ad08ce9')\"\n",
              "            title=\"Suggest charts\"\n",
              "            style=\"display:none;\">\n",
              "\n",
              "<svg xmlns=\"http://www.w3.org/2000/svg\" height=\"24px\"viewBox=\"0 0 24 24\"\n",
              "     width=\"24px\">\n",
              "    <g>\n",
              "        <path d=\"M19 3H5c-1.1 0-2 .9-2 2v14c0 1.1.9 2 2 2h14c1.1 0 2-.9 2-2V5c0-1.1-.9-2-2-2zM9 17H7v-7h2v7zm4 0h-2V7h2v10zm4 0h-2v-4h2v4z\"/>\n",
              "    </g>\n",
              "</svg>\n",
              "  </button>\n",
              "\n",
              "<style>\n",
              "  .colab-df-quickchart {\n",
              "      --bg-color: #E8F0FE;\n",
              "      --fill-color: #1967D2;\n",
              "      --hover-bg-color: #E2EBFA;\n",
              "      --hover-fill-color: #174EA6;\n",
              "      --disabled-fill-color: #AAA;\n",
              "      --disabled-bg-color: #DDD;\n",
              "  }\n",
              "\n",
              "  [theme=dark] .colab-df-quickchart {\n",
              "      --bg-color: #3B4455;\n",
              "      --fill-color: #D2E3FC;\n",
              "      --hover-bg-color: #434B5C;\n",
              "      --hover-fill-color: #FFFFFF;\n",
              "      --disabled-bg-color: #3B4455;\n",
              "      --disabled-fill-color: #666;\n",
              "  }\n",
              "\n",
              "  .colab-df-quickchart {\n",
              "    background-color: var(--bg-color);\n",
              "    border: none;\n",
              "    border-radius: 50%;\n",
              "    cursor: pointer;\n",
              "    display: none;\n",
              "    fill: var(--fill-color);\n",
              "    height: 32px;\n",
              "    padding: 0;\n",
              "    width: 32px;\n",
              "  }\n",
              "\n",
              "  .colab-df-quickchart:hover {\n",
              "    background-color: var(--hover-bg-color);\n",
              "    box-shadow: 0 1px 2px rgba(60, 64, 67, 0.3), 0 1px 3px 1px rgba(60, 64, 67, 0.15);\n",
              "    fill: var(--button-hover-fill-color);\n",
              "  }\n",
              "\n",
              "  .colab-df-quickchart-complete:disabled,\n",
              "  .colab-df-quickchart-complete:disabled:hover {\n",
              "    background-color: var(--disabled-bg-color);\n",
              "    fill: var(--disabled-fill-color);\n",
              "    box-shadow: none;\n",
              "  }\n",
              "\n",
              "  .colab-df-spinner {\n",
              "    border: 2px solid var(--fill-color);\n",
              "    border-color: transparent;\n",
              "    border-bottom-color: var(--fill-color);\n",
              "    animation:\n",
              "      spin 1s steps(1) infinite;\n",
              "  }\n",
              "\n",
              "  @keyframes spin {\n",
              "    0% {\n",
              "      border-color: transparent;\n",
              "      border-bottom-color: var(--fill-color);\n",
              "      border-left-color: var(--fill-color);\n",
              "    }\n",
              "    20% {\n",
              "      border-color: transparent;\n",
              "      border-left-color: var(--fill-color);\n",
              "      border-top-color: var(--fill-color);\n",
              "    }\n",
              "    30% {\n",
              "      border-color: transparent;\n",
              "      border-left-color: var(--fill-color);\n",
              "      border-top-color: var(--fill-color);\n",
              "      border-right-color: var(--fill-color);\n",
              "    }\n",
              "    40% {\n",
              "      border-color: transparent;\n",
              "      border-right-color: var(--fill-color);\n",
              "      border-top-color: var(--fill-color);\n",
              "    }\n",
              "    60% {\n",
              "      border-color: transparent;\n",
              "      border-right-color: var(--fill-color);\n",
              "    }\n",
              "    80% {\n",
              "      border-color: transparent;\n",
              "      border-right-color: var(--fill-color);\n",
              "      border-bottom-color: var(--fill-color);\n",
              "    }\n",
              "    90% {\n",
              "      border-color: transparent;\n",
              "      border-bottom-color: var(--fill-color);\n",
              "    }\n",
              "  }\n",
              "</style>\n",
              "\n",
              "  <script>\n",
              "    async function quickchart(key) {\n",
              "      const quickchartButtonEl =\n",
              "        document.querySelector('#' + key + ' button');\n",
              "      quickchartButtonEl.disabled = true;  // To prevent multiple clicks.\n",
              "      quickchartButtonEl.classList.add('colab-df-spinner');\n",
              "      try {\n",
              "        const charts = await google.colab.kernel.invokeFunction(\n",
              "            'suggestCharts', [key], {});\n",
              "      } catch (error) {\n",
              "        console.error('Error during call to suggestCharts:', error);\n",
              "      }\n",
              "      quickchartButtonEl.classList.remove('colab-df-spinner');\n",
              "      quickchartButtonEl.classList.add('colab-df-quickchart-complete');\n",
              "    }\n",
              "    (() => {\n",
              "      let quickchartButtonEl =\n",
              "        document.querySelector('#df-5d9f0343-4feb-4422-8b56-764e1ad08ce9 button');\n",
              "      quickchartButtonEl.style.display =\n",
              "        google.colab.kernel.accessAllowed ? 'block' : 'none';\n",
              "    })();\n",
              "  </script>\n",
              "</div>\n",
              "    </div>\n",
              "  </div>\n"
            ]
          },
          "metadata": {},
          "execution_count": 5
        }
      ],
      "source": [
        "# Your code here:\n",
        "\n",
        "salaries.head()\n"
      ]
    },
    {
      "cell_type": "markdown",
      "metadata": {
        "id": "zsI8BeyALG_J"
      },
      "source": [
        "We see from looking at the `head` function that there is quite a bit of missing data. Let's examine how much missing data is in each column. Produce this output in the cell below"
      ]
    },
    {
      "cell_type": "code",
      "execution_count": 7,
      "metadata": {
        "colab": {
          "base_uri": "https://localhost:8080/"
        },
        "id": "gdXdlaE8LG_J",
        "outputId": "d496bd98-608f-4366-a938-9d313b135ed5"
      },
      "outputs": [
        {
          "output_type": "execute_result",
          "data": {
            "text/plain": [
              "Name                     0\n",
              "Job Titles               0\n",
              "Department               0\n",
              "Full or Part-Time        0\n",
              "Salary or Hourly         0\n",
              "Typical Hours        25161\n",
              "Annual Salary         8022\n",
              "Hourly Rate          25161\n",
              "dtype: int64"
            ]
          },
          "metadata": {},
          "execution_count": 7
        }
      ],
      "source": [
        "# Your code here:\n",
        "\n",
        "salaries.isnull().sum()"
      ]
    },
    {
      "cell_type": "markdown",
      "metadata": {
        "id": "5n7pThBCLG_J"
      },
      "source": [
        "Let's also look at the count of hourly vs. salaried employees. Write the code in the cell below"
      ]
    },
    {
      "cell_type": "code",
      "execution_count": 10,
      "metadata": {
        "colab": {
          "base_uri": "https://localhost:8080/"
        },
        "id": "xqtI_-YmLG_J",
        "outputId": "3a54e565-034d-49f6-9688-8152820b9713"
      },
      "outputs": [
        {
          "output_type": "stream",
          "name": "stdout",
          "text": [
            "<class 'pandas.core.frame.DataFrame'>\n",
            "RangeIndex: 33183 entries, 0 to 33182\n",
            "Data columns (total 8 columns):\n",
            " #   Column             Non-Null Count  Dtype  \n",
            "---  ------             --------------  -----  \n",
            " 0   Name               33183 non-null  object \n",
            " 1   Job Titles         33183 non-null  object \n",
            " 2   Department         33183 non-null  object \n",
            " 3   Full or Part-Time  33183 non-null  object \n",
            " 4   Salary or Hourly   33183 non-null  object \n",
            " 5   Typical Hours      8022 non-null   float64\n",
            " 6   Annual Salary      25161 non-null  float64\n",
            " 7   Hourly Rate        8022 non-null   float64\n",
            "dtypes: float64(3), object(5)\n",
            "memory usage: 2.0+ MB\n"
          ]
        }
      ],
      "source": [
        "# Your code here:\n",
        "\n",
        "salaries.info()"
      ]
    },
    {
      "cell_type": "markdown",
      "metadata": {
        "id": "MXD-Ml_6LG_K"
      },
      "source": [
        "What this information indicates is that the table contains information about two types of employees - salaried and hourly. Some columns apply only to one type of employee while other columns only apply to another kind. This is why there are so many missing values. Therefore, we will not do anything to handle the missing values."
      ]
    },
    {
      "cell_type": "markdown",
      "metadata": {
        "id": "4UEuxAINLG_K"
      },
      "source": [
        "There are different departments in the city. List all departments and the count of employees in each department."
      ]
    },
    {
      "cell_type": "code",
      "execution_count": 13,
      "metadata": {
        "colab": {
          "base_uri": "https://localhost:8080/"
        },
        "id": "ARYkBelXLG_K",
        "outputId": "35c3e3c2-4be0-4de7-d861-789efd1b1510"
      },
      "outputs": [
        {
          "output_type": "execute_result",
          "data": {
            "text/plain": [
              "POLICE                   13414\n",
              "FIRE                      4641\n",
              "STREETS & SAN             2198\n",
              "OEMC                      2102\n",
              "WATER MGMNT               1879\n",
              "AVIATION                  1629\n",
              "TRANSPORTN                1140\n",
              "PUBLIC LIBRARY            1015\n",
              "GENERAL SERVICES           980\n",
              "FAMILY & SUPPORT           615\n",
              "FINANCE                    560\n",
              "HEALTH                     488\n",
              "CITY COUNCIL               411\n",
              "LAW                        407\n",
              "BUILDINGS                  269\n",
              "COMMUNITY DEVELOPMENT      207\n",
              "BUSINESS AFFAIRS           171\n",
              "COPA                       116\n",
              "BOARD OF ELECTION          107\n",
              "DoIT                        99\n",
              "PROCUREMENT                 92\n",
              "INSPECTOR GEN               87\n",
              "MAYOR'S OFFICE              85\n",
              "CITY CLERK                  84\n",
              "ANIMAL CONTRL               81\n",
              "HUMAN RESOURCES             79\n",
              "CULTURAL AFFAIRS            65\n",
              "BUDGET & MGMT               46\n",
              "ADMIN HEARNG                39\n",
              "DISABILITIES                28\n",
              "TREASURER                   22\n",
              "HUMAN RELATIONS             16\n",
              "BOARD OF ETHICS              8\n",
              "POLICE BOARD                 2\n",
              "LICENSE APPL COMM            1\n",
              "Name: Department, dtype: int64"
            ]
          },
          "metadata": {},
          "execution_count": 13
        }
      ],
      "source": [
        "# Your code here:\n",
        "\n",
        "salaries['Department'].value_counts()\n",
        "\n"
      ]
    },
    {
      "cell_type": "markdown",
      "metadata": {
        "id": "CKx7SAavLG_K"
      },
      "source": [
        "# Challenge 2 - Hypothesis Tests\n",
        "\n",
        "In this section of the lab, we will test whether the hourly wage of all hourly workers is significantly different from $30/hr. Import the correct one sample test function from scipy and perform the hypothesis test for a 95% two sided confidence interval."
      ]
    },
    {
      "cell_type": "code",
      "execution_count": 14,
      "metadata": {
        "colab": {
          "base_uri": "https://localhost:8080/"
        },
        "id": "ifkpPuE9LG_L",
        "outputId": "4521ccd8-13e9-411f-dc5b-37e408f11dd0"
      },
      "outputs": [
        {
          "output_type": "stream",
          "name": "stdout",
          "text": [
            "t-statistic: 20.6198057854942\n",
            "p-value: 4.3230240486229894e-92\n",
            "Reject the null hypothesis: The hourly wage is significantly different from $30/hr.\n"
          ]
        }
      ],
      "source": [
        "# Your code here:\n",
        "\n",
        "from scipy.stats import ttest_1samp\n",
        "\n",
        "hourly_wages = salaries[salaries['Salary or Hourly'] == 'Hourly']['Hourly Rate'].dropna()\n",
        "\n",
        "# Perform one-sample t-test\n",
        "t_stat, p_value = ttest_1samp(hourly_wages, 30)\n",
        "\n",
        "# Display the results\n",
        "print(\"t-statistic:\", t_stat)\n",
        "print(\"p-value:\", p_value)\n",
        "\n",
        "# Check significance at 95% confidence level\n",
        "alpha = 0.05\n",
        "if p_value < alpha:\n",
        "    print(\"Reject the null hypothesis: The hourly wage is significantly different from $30/hr.\")\n",
        "else:\n",
        "    print(\"Fail to reject the null hypothesis: The hourly wage is not significantly different from $30/hr.\")\n",
        "\n",
        "\n",
        "\n"
      ]
    },
    {
      "cell_type": "markdown",
      "metadata": {
        "id": "rSf7zz4mLG_L"
      },
      "source": [
        "We are also curious about salaries in the police force. The chief of police in Chicago claimed in a press briefing that salaries this year are higher than last year's mean of $86000/year a year for all salaried employees. Test this one sided hypothesis using a 95% confidence interval.\n",
        "\n",
        "Hint: A one tailed test has a p-value that is half of the two tailed p-value. If our hypothesis is greater than, then to reject, the test statistic must also be positive."
      ]
    },
    {
      "cell_type": "code",
      "execution_count": 16,
      "metadata": {
        "colab": {
          "base_uri": "https://localhost:8080/"
        },
        "id": "mhClktZJLG_L",
        "outputId": "3da44c9c-a166-469d-f4fb-430c34554827"
      },
      "outputs": [
        {
          "output_type": "stream",
          "name": "stdout",
          "text": [
            "t-statistic: 3.081997005712994\n",
            "p-value: 0.0020603403550965137\n",
            "Reject the null hypothesis: Police salaries are higher than $86000/year.\n"
          ]
        }
      ],
      "source": [
        "# Your code here:\n",
        "from scipy.stats import ttest_1samp\n",
        "\n",
        "# Assuming 'salaries' is your DataFrame and 'Annual Salary' is the column containing annual salaries\n",
        "police_salaries = salaries[(salaries['Department'] == 'POLICE') & (salaries['Salary or Hourly'] == 'Salary')]['Annual Salary'].dropna()\n",
        "\n",
        "# Perform one-sample t-test\n",
        "t_stat, p_value = ttest_1samp(police_salaries, 86000)\n",
        "\n",
        "# Display the results\n",
        "print(\"t-statistic:\", t_stat)\n",
        "print(\"p-value:\", p_value)\n",
        "\n",
        "# Check significance at 95% confidence level for a one-sided test\n",
        "alpha = 0.05\n",
        "if p_value / 2 < alpha and t_stat > 0:\n",
        "    print(\"Reject the null hypothesis: Police salaries are higher than $86000/year.\")\n",
        "else:\n",
        "    print(\"Fail to reject the null hypothesis: No sufficient evidence that police salaries are higher than $86000/year.\")\n",
        "\n",
        "\n"
      ]
    },
    {
      "cell_type": "markdown",
      "metadata": {
        "id": "1nKcaE28LG_L"
      },
      "source": [
        "Using the `crosstab` function, find the department that has the most hourly workers."
      ]
    },
    {
      "cell_type": "code",
      "execution_count": 17,
      "metadata": {
        "colab": {
          "base_uri": "https://localhost:8080/"
        },
        "id": "cs5hFX-DLG_L",
        "outputId": "7fa874e2-d889-4d8c-8968-37023e447a20"
      },
      "outputs": [
        {
          "output_type": "stream",
          "name": "stdout",
          "text": [
            "Department with the most hourly workers: STREETS & SAN\n"
          ]
        }
      ],
      "source": [
        "# Your code here:\n",
        "\n",
        "import pandas as pd\n",
        "\n",
        "# Assuming 'salaries' is your DataFrame\n",
        "cross_table = pd.crosstab(salaries['Department'], salaries['Salary or Hourly'])\n",
        "\n",
        "# Extract the count of hourly workers\n",
        "hourly_counts = cross_table['Hourly']\n",
        "\n",
        "# Find the department with the most hourly workers\n",
        "department_most_hourly = hourly_counts.idxmax()\n",
        "\n",
        "print(\"Department with the most hourly workers:\", department_most_hourly)\n",
        "\n",
        "\n"
      ]
    },
    {
      "cell_type": "markdown",
      "metadata": {
        "id": "PGe1X-JALG_M"
      },
      "source": [
        "The workers from the department with the most hourly workers have complained that their hourly wage is less than $35/hour. Using a one sample t-test, test this one-sided hypothesis at the 95% confidence level."
      ]
    },
    {
      "cell_type": "code",
      "execution_count": 18,
      "metadata": {
        "colab": {
          "base_uri": "https://localhost:8080/"
        },
        "id": "fIBsvG00LG_M",
        "outputId": "03d3915b-507b-4b2a-a315-b825fdd81a3b"
      },
      "outputs": [
        {
          "output_type": "stream",
          "name": "stdout",
          "text": [
            "t-statistic: -9.567447887848152\n",
            "p-value: 3.3378530564707717e-21\n",
            "Reject the null hypothesis: Hourly wages are less than $35/hour for workers in 'STREETS & SAN'.\n"
          ]
        }
      ],
      "source": [
        "# Your code here:\n",
        "\n",
        "from scipy.stats import ttest_1samp\n",
        "\n",
        "streets_san_hourly_wages = salaries[(salaries['Department'] == 'STREETS & SAN') & (salaries['Salary or Hourly'] == 'Hourly')]['Annual Salary'].dropna()\n",
        "\n",
        "# Perform one-sample t-test\n",
        "t_stat, p_value = ttest_1samp(streets_san_hourly_wages, 35)\n",
        "\n",
        "# Display the results\n",
        "print(\"t-statistic:\", t_stat)\n",
        "print(\"p-value:\", p_value)\n",
        "\n",
        "# Check significance at 95% confidence level for a one-sided test\n",
        "alpha = 0.05\n",
        "if p_value / 2 < alpha and t_stat < 0:\n",
        "    print(\"Reject the null hypothesis: Hourly wages are less than $35/hour for workers in 'STREETS & SAN'.\")\n",
        "else:\n",
        "    print(\"Fail to reject the null hypothesis: No sufficient evidence that hourly wages are less than $35/hour for workers in 'STREETS & SAN'.\")\n"
      ]
    },
    {
      "cell_type": "markdown",
      "metadata": {
        "id": "KjG4HYZjLG_M"
      },
      "source": [
        "# Challenge 3: To practice - Constructing Confidence Intervals\n",
        "\n",
        "While testing our hypothesis is a great way to gather empirical evidence for accepting or rejecting the hypothesis, another way to gather evidence is by creating a confidence interval. A confidence interval gives us information about the true mean of the population. So for a 95% confidence interval, we are 95% sure that the mean of the population is within the confidence interval.\n",
        ").\n",
        "\n",
        "To read more about confidence intervals, click [here](https://en.wikipedia.org/wiki/Confidence_interval).\n",
        "\n",
        "\n",
        "In the cell below, we will construct a 95% confidence interval for the mean hourly wage of all hourly workers.\n",
        "\n",
        "The confidence interval is computed in SciPy using the `t.interval` function. You can read more about this function [here](https://docs.scipy.org/doc/scipy-0.14.0/reference/generated/scipy.stats.t.html).\n",
        "\n",
        "To compute the confidence interval of the hourly wage, use the 0.95 for the confidence level, number of rows - 1 for degrees of freedom, the mean of the sample for the location parameter and the standard error for the scale. The standard error can be computed using [this](https://docs.scipy.org/doc/scipy/reference/generated/scipy.stats.sem.html) function in SciPy."
      ]
    },
    {
      "cell_type": "code",
      "execution_count": 19,
      "metadata": {
        "colab": {
          "base_uri": "https://localhost:8080/"
        },
        "id": "hgNny4SrLG_M",
        "outputId": "2bca76f6-1dd8-41a2-9c3f-7c2de55bfc27"
      },
      "outputs": [
        {
          "output_type": "stream",
          "name": "stdout",
          "text": [
            "Mean Hourly Wage: $32.79\n",
            "95% Confidence Interval: ($32.52, $33.05)\n"
          ]
        }
      ],
      "source": [
        "# Your code here:\n",
        "\n",
        "from scipy.stats import t, sem\n",
        "\n",
        "hourly_wages = salaries[salaries['Salary or Hourly'] == 'Hourly']['Hourly Rate'].dropna()\n",
        "\n",
        "# Calculate the mean and standard error of the mean (SEM)\n",
        "mean_hourly_wage = hourly_wages.mean()\n",
        "sem_hourly_wage = sem(hourly_wages)\n",
        "\n",
        "# Specify the confidence level and degrees of freedom\n",
        "confidence_level = 0.95\n",
        "degrees_of_freedom = len(hourly_wages) - 1\n",
        "\n",
        "# Compute the confidence interval\n",
        "confidence_interval = t.interval(confidence_level, degrees_of_freedom, loc=mean_hourly_wage, scale=sem_hourly_wage)\n",
        "\n",
        "# Display the results\n",
        "print(f\"Mean Hourly Wage: ${mean_hourly_wage:.2f}\")\n",
        "print(f\"95% Confidence Interval: (${confidence_interval[0]:.2f}, ${confidence_interval[1]:.2f})\")\n",
        "\n"
      ]
    },
    {
      "cell_type": "markdown",
      "metadata": {
        "id": "1VPr5FSpLG_M"
      },
      "source": [
        "Now construct the 95% confidence interval for all salaried employeed in the police in the cell below."
      ]
    },
    {
      "cell_type": "code",
      "execution_count": 21,
      "metadata": {
        "colab": {
          "base_uri": "https://localhost:8080/"
        },
        "id": "FXa_QxzvLG_M",
        "outputId": "fa8119f9-1292-425f-9365-cc126652f2ed"
      },
      "outputs": [
        {
          "output_type": "stream",
          "name": "stdout",
          "text": [
            "Mean Salary Wage: $86486.41\n",
            "95% Confidence Interval: ($86177.06, $86795.77)\n"
          ]
        }
      ],
      "source": [
        "# Your code here:\n",
        "\n",
        "police_salaries = salaries[(salaries['Department'] == 'POLICE') & (salaries['Salary or Hourly'] == 'Salary')]['Annual Salary'].dropna()\n",
        "\n",
        "# Calculate the mean and standard error of the mean (SEM)\n",
        "mean_salary_wage = police_salaries.mean()\n",
        "sem_salary_wage = sem(police_salaries)\n",
        "\n",
        "# Specify the confidence level and degrees of freedom\n",
        "confidence_level = 0.95\n",
        "degrees_of_freedom = len(police_salaries) - 1\n",
        "\n",
        "# Compute the confidence interval\n",
        "confidence_interval = t.interval(confidence_level, degrees_of_freedom, loc=mean_salary_wage, scale=sem_salary_wage)\n",
        "\n",
        "# Display the results\n",
        "print(f\"Mean Salary Wage: ${mean_salary_wage:.2f}\")\n",
        "print(f\"95% Confidence Interval: (${confidence_interval[0]:.2f}, ${confidence_interval[1]:.2f})\")\n"
      ]
    },
    {
      "cell_type": "markdown",
      "metadata": {
        "id": "wDHJ75HlLG_N"
      },
      "source": [
        "# Bonus Challenge - Hypothesis Tests of Proportions\n",
        "\n",
        "Another type of one sample test is a hypothesis test of proportions. In this test, we examine whether the proportion of a group in our sample is significantly different than a fraction.\n",
        "\n",
        "You can read more about one sample proportion tests [here](http://sphweb.bumc.bu.edu/otlt/MPH-Modules/BS/SAS/SAS6-CategoricalData/SAS6-CategoricalData2.html).\n",
        "\n",
        "In the cell below, use the `proportions_ztest` function from `statsmodels` to perform a hypothesis test that will determine whether the number of hourly workers in the City of Chicago is significantly different from 25% at the 95% confidence level."
      ]
    },
    {
      "cell_type": "code",
      "execution_count": null,
      "metadata": {
        "id": "WxYplamOLG_N"
      },
      "outputs": [],
      "source": [
        "# Your code here:\n",
        "\n"
      ]
    }
  ],
  "metadata": {
    "kernelspec": {
      "display_name": "Python 3",
      "language": "python",
      "name": "python3"
    },
    "language_info": {
      "codemirror_mode": {
        "name": "ipython",
        "version": 3
      },
      "file_extension": ".py",
      "mimetype": "text/x-python",
      "name": "python",
      "nbconvert_exporter": "python",
      "pygments_lexer": "ipython3",
      "version": "3.7.3"
    },
    "colab": {
      "provenance": []
    }
  },
  "nbformat": 4,
  "nbformat_minor": 0
}